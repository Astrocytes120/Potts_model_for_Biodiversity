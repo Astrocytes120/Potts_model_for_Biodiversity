{
 "cells": [
  {
   "cell_type": "code",
   "execution_count": 51,
   "id": "dc68b787",
   "metadata": {},
   "outputs": [],
   "source": [
    "import numpy as np\n",
    "import matplotlib.pyplot as plt\n",
    "from matplotlib.colors import LinearSegmentedColormap\n",
    "\n",
    "# Make some illustrative fake data:\n",
    "\n",
    "x = np.arange(0, np.pi, 0.1)\n",
    "y = np.arange(0, 2 * np.pi, 0.1)\n",
    "X, Y = np.meshgrid(x, y)\n",
    "Z = np.cos(X) * np.sin(Y)"
   ]
  },
  {
   "cell_type": "code",
   "execution_count": 52,
   "id": "7efbf468",
   "metadata": {},
   "outputs": [],
   "source": [
    "import numpy as np\n",
    "import matplotlib.pyplot as plt\n",
    "from sklearn.datasets import load_sample_image\n",
    "from sklearn.cluster import KMeans\n"
   ]
  },
  {
   "cell_type": "code",
   "execution_count": 67,
   "id": "98de03b7",
   "metadata": {},
   "outputs": [
    {
     "data": {
      "image/png": "[encoded data removed]",
      "text/plain": [
       "<Figure size 640x480 with 1 Axes>"
      ]
     },
     "metadata": {},
     "output_type": "display_data"
    }
   ],
   "source": [
    "X =Z.reshape(-1,1)\n",
    "kmeans=KMeans(n_clusters=4).fit(X)\n",
    "segmented_img=kmeans.cluster_centers_[kmeans.labels_]\n",
    "segmented_img=segmented_img.reshape(Z.shape)\n",
    "\n",
    "\n",
    "for idx, val in enumerate(np.unique(segmented_img)):\n",
    "    segmented_img=np.where(segmented_img!=val,segmented_img,idx)\n",
    "\n",
    "plt.imshow(segmented_img)\n",
    "plt.show()"
   ]
  },
  {
   "cell_type": "code",
   "execution_count": null,
   "id": "e87fd8ff",
   "metadata": {},
   "outputs": [],
   "source": []
  }
 ],
 "metadata": {
  "kernelspec": {
   "display_name": "Python 3",
   "language": "python",
   "name": "python3"
  },
  "language_info": {
   "codemirror_mode": {
    "name": "ipython",
    "version": 3
   },
   "file_extension": ".py",
   "mimetype": "text/x-python",
   "name": "python",
   "nbconvert_exporter": "python",
   "pygments_lexer": "ipython3",
   "version": "3.7.6"
  }
 },
 "nbformat": 4,
 "nbformat_minor": 5
}
