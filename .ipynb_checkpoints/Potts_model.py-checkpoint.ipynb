{
 "cells": [
  {
   "cell_type": "markdown",
   "id": "0be0ba7e",
   "metadata": {},
   "source": [
    "## 2D Lattice Ising model\n",
    "#### solved by Metropolis algorithm"
   ]
  },
  {
   "cell_type": "markdown",
   "id": "4b87cce8",
   "metadata": {},
   "source": [
    "Magnetism is occured by spin, which is innate physical value like mass. A electron has spin $ \\pm \\frac{1}{2}$, because it is a fermion(anti-symmetrical particle). The spin is sort of binary system, having two possible state. I denoted the spin as {-1,1} to make calculation easy.\n",
    "The state of Magnetism has two different type of behavior, ferromagnetism and paramagnetism. The former is the circumstance that spin coupling effect is dominant, while the later is self-magnetization by external magnetism is dominant. The two source of magnetization can be written by,\n",
    "\n",
    "$$ H=-J\\sum_{i,j}{\\sigma_{i}\\sigma_{j}}-h\\sum_{i}{\\sigma_{i}} \\;\\;\\; [Hamiltonian\\;of\\; Magnetism]$$\n",
    "\n",
    "I assumed that there is no any external magnetism, so $h=0$. Then, Hamiltonian of mangetism become simple as\n",
    "\n",
    "$$H=-J\\sum_{i,j}{\\sigma_{i}\\sigma_{j}} \\;\\; [Ising\\;model]$$\n",
    "\n",
    "To calculate the value, we shold set configuration of atoms. I set a simple 2D lattice. But even we set a simple structure, it's still too heavy to calculate. So, we only consider neighborhood, which are up, down, right, and left. Then our Hamiltonian becomes\n",
    "\n",
    "$$H=-J\\sum_{<i,j>}{\\sigma_{i}\\sigma_{j}} \\;\\; [Ising\\;model].$$\n",
    "\n",
    "<i,j> means that we only consider neighborhood. And J determines how to change spin. When J >0, spin tends to become similiar with neighborhood, while J<0, spin tend to become opposite to neighborhood, and when J=0, spin does not change, just stays its own state. I only considered J<0, ferromanetism.\n",
    "\n",
    "By canonical ensemble in Thermodynamics, when determined the Hamiltonian of the system, we can compute possibilities of each state.\n",
    "\n",
    "$$ P_{i}=\\frac{exp(-\\beta H_{i})}{Z}, \\; Z=\\sum_{i}{exp(-\\beta H_{i})} $$\n",
    "\n",
    "For applying Metropolis algorithm, we shoulb consider appectance.\n",
    "\n",
    "$$ A=\\frac{P(\\sigma_{now} \\to \\sigma_{new})}{P(\\sigma_{new} \\to \\sigma_{now})}=\\frac{\\frac{exp(-\\beta H_{new})}{Z}}{\\frac{exp(-\\beta H_{now})}{Z}}=exp(-\\beta \\Delta H)$$\n",
    "\n",
    "$$\\Delta H=-J \\sigma_{i}\\sum_{<i,j>}\\sigma_{j} -(-1) -J\\sigma_{i} \\sum_{<i,j>}\\sigma_{j}=-2J\\sigma_{i} \\sum_{<i,j>}\\sigma_{j}$$\n",
    "\n",
    "Then Metropolis Algoritm becomes\n",
    "$$\\begin{equation} \\sigma_{i}^{*} =\n",
    "    \\begin{cases}\n",
    "      -\\sigma_{i} & \\text{When A >= 1}\\\\\n",
    "      -\\sigma_{i} & \\text{with possibility A when A < 1}\\\\\n",
    "      \\sigma_{i} & \\text{otherwise}\n",
    "    \\end{cases}       \n",
    "\\end{equation}$$"
   ]
  },
  {
   "cell_type": "code",
   "execution_count": 1,
   "id": "86f28c40",
   "metadata": {},
   "outputs": [],
   "source": [
    "import numpy as np\n",
    "import matplotlib.pyplot as plt\n",
    "import numpy.random as rdom\n",
    "import matplotlib.animation as animation\n",
    "from IPython.display import HTML"
   ]
  },
  {
   "cell_type": "code",
   "execution_count": 2,
   "id": "cb721af5",
   "metadata": {},
   "outputs": [],
   "source": [
    "#상태 초기화\n",
    "def initialize(L,level):\n",
    "    #return np.ones((L,L))\n",
    "    return rdom.randint(0,level,size=(L,L))\n",
    "    #return np.append(np.ones((int(L/2),L)),-1*np.ones((int(L/2),L)),axis=0)"
   ]
  },
  {
   "cell_type": "code",
   "execution_count": 3,
   "id": "5415abca",
   "metadata": {},
   "outputs": [
    {
     "data": {
      "text/plain": [
       "array([0, 1, 2, 3])"
      ]
     },
     "execution_count": 3,
     "metadata": {},
     "output_type": "execute_result"
    }
   ],
   "source": [
    "np.unique(initialize(100,4))"
   ]
  },
  {
   "cell_type": "code",
   "execution_count": 4,
   "id": "4f7a6963",
   "metadata": {},
   "outputs": [],
   "source": [
    "#metropolis algorithm\n",
    "def sweep(state,level,J,T):\n",
    "    for k in range(state.size):\n",
    "        L=int(len(state))\n",
    "        sel_x, sel_y= rdom.randint(0,L,size=2)\n",
    "        \n",
    "        sel_level = rdom.randint(0,level)\n",
    "        \n",
    "        pos_T=T[sel_x,sel_y]\n",
    "        \n",
    "        beta=1/pos_T\n",
    "        \n",
    "        \n",
    "        #neighbor\n",
    "        neighbor_=[state[(sel_x-1)%L,(sel_y+1)%L], #1번, (-1,1)\n",
    "                   state[sel_x,(sel_y+1)%L], #2번, (0,1)\n",
    "                   state[(sel_x+1)%L,(sel_y+1)%L], #3번, (1,1)\n",
    "                   state[(sel_x-1)%L,sel_y], #4번, (-1,0)\n",
    "                   state[(sel_x+1)%L,sel_y], #6번, (1,0)\n",
    "                   state[(sel_x-1)%L,(sel_y-1)%L], #7번, (-1,-1)\n",
    "                   state[sel_x,(sel_y-1)%L], #8번, (0,-1)\n",
    "                   state[(sel_x+1)%L,(sel_y-1)%L]] #9, (1,-1)\n",
    "        \n",
    "        \n",
    "        E0, E1 = 0,0\n",
    "        for stat in neighbor_:\n",
    "            E0 += J[state[sel_x,sel_y],stat]\n",
    "            E1 += J[sel_level,stat]\n",
    "        \n",
    "        delta_E=E1-E0\n",
    "            \n",
    "        \n",
    "        if delta_E>=0 or rdom.uniform()<np.exp(beta*delta_E):\n",
    "            state[sel_x,sel_y] = sel_level\n",
    "    return state"
   ]
  },
  {
   "cell_type": "code",
   "execution_count": 5,
   "id": "268a01eb",
   "metadata": {},
   "outputs": [],
   "source": [
    "#metropolis algorithm\n",
    "def sweep_J(state,level,dic_J,T,beta=1/2):\n",
    "    for k in range(state.size):\n",
    "        L=int(len(state))\n",
    "        sel_x, sel_y= rdom.randint(0,L,size=2)\n",
    "        \n",
    "        sel_level = rdom.randint(0,level)\n",
    "        \n",
    "        pos_T=T[sel_x,sel_y]\n",
    "        \n",
    "        \n",
    "        #neighbor\n",
    "        neighbor_=[state[(sel_x-1)%L,(sel_y+1)%L], #1번, (-1,1)\n",
    "                   state[sel_x,(sel_y+1)%L], #2번, (0,1)\n",
    "                   state[(sel_x+1)%L,(sel_y+1)%L], #3번, (1,1)\n",
    "                   state[(sel_x-1)%L,sel_y], #4번, (-1,0)\n",
    "                   state[(sel_x+1)%L,sel_y], #6번, (1,0)\n",
    "                   state[(sel_x-1)%L,(sel_y-1)%L], #7번, (-1,-1)\n",
    "                   state[sel_x,(sel_y-1)%L], #8번, (0,-1)\n",
    "                   state[(sel_x+1)%L,(sel_y-1)%L]] #9, (1,-1)\n",
    "        \n",
    "        \n",
    "        E0, E1 = 0,0\n",
    "        for stat in neighbor_:\n",
    "            E0 += dic_J[pos_T][state[sel_x,sel_y],stat]\n",
    "            E1 += dic_J[pos_T][sel_level,stat]\n",
    "        \n",
    "        delta_E=E1-E0\n",
    "            \n",
    "        \n",
    "        if delta_E>=0 or rdom.uniform()<np.exp(beta*delta_E):\n",
    "            state[sel_x,sel_y] = sel_level\n",
    "    return state"
   ]
  },
  {
   "cell_type": "code",
   "execution_count": 6,
   "id": "908fc3c8",
   "metadata": {},
   "outputs": [],
   "source": [
    "#Species Richness Index\n",
    "def RI(state):\n",
    "    sp_num=len(np.unique(state))\n",
    "    tot_num=np.size(state)\n",
    "    return (sp_num-1)/np.log(tot_num)\n",
    "\n",
    "#Shannon Diversity\n",
    "def H(state):\n",
    "    tot_num=np.size(state)\n",
    "    p_=[]\n",
    "    for val in np.unique(state):\n",
    "        p_.append(np.sum(state==val)/tot_num)\n",
    "    anw=0\n",
    "    for pval in p_:\n",
    "        anw += -pval*np.log(pval)\n",
    "    \n",
    "    return anw\n",
    "\n",
    "#Species Evenness\n",
    "def EI(state):\n",
    "    sp_num=len(np.unique(state))\n",
    "    DI=H(state)\n",
    "    \n",
    "    return DI/np.log(sp_num)\n",
    "\n",
    "#Simpson index\n",
    "\n",
    "def SI(state):\n",
    "    tot_num=np.sum(state)\n",
    "    anw=0\n",
    "    for val in np.unique(state):\n",
    "        val_num=np.sum(state==val)\n",
    "        anw +=(val_num*(val_num-1))\n",
    "    return anw/(tot_num*(tot_num-1))"
   ]
  },
  {
   "cell_type": "code",
   "execution_count": 43,
   "id": "52254eb3",
   "metadata": {},
   "outputs": [],
   "source": [
    "#설정값\n",
    "Temp=1 #온도. [K]\n",
    "J=1 #J. -1은 식에 이미 더해져 있기에, >0 인 값만 사용.\n",
    "L=50 #N=L x L. 한 변의 입자수\n",
    "level=3 #상태 수"
   ]
  },
  {
   "cell_type": "code",
   "execution_count": 44,
   "id": "6e97f624",
   "metadata": {},
   "outputs": [],
   "source": [
    "#Ising style\n",
    "J_ising=np.array([[J,-J,-J],[-J,J,-J],[-J,-J,J]])\n",
    "\n",
    "#3_level J\n",
    "\n",
    "J_3lev=np.array([[0.8J,J, 0.2J],[1J,0.3J,0.5J],[1J,0.5J,0.3J]])\n",
    "\n",
    "#4_level J for squre temp\n",
    "\n",
    "J_square={0:np.array([[1.01*J,-J, -J,-J],[-J,J,-J,-J],[-J,-J,J,-J],[-J,-J,-J,J]]),\n",
    "         Temp:np.array([[J,-J, -J,-J],[-J,1.01*J,-J,-J],[-J,-J,J,-J],[-J,-J,-J,J]]),\n",
    "         2*Temp:np.array([[J,-J, -J,-J],[-J,J,-J,-J],[-J,-J,1.01*J,-J],[-J,-J,-J,J]]),\n",
    "         3*Temp:np.array([[J,-J, -J,-J],[-J,J,-J,-J],[-J,-J,J,-J],[-J,-J,-J,1.01*J]])}"
   ]
  },
  {
   "cell_type": "code",
   "execution_count": 45,
   "id": "fae4cf65",
   "metadata": {},
   "outputs": [
    {
     "data": {
      "image/png": "[encoded data removed]",
      "text/plain": [
       "<Figure size 432x288 with 2 Axes>"
      ]
     },
     "metadata": {
      "needs_background": "light"
     },
     "output_type": "display_data"
    },
    {
     "data": {
      "image/png": "[encoded data removed]",
      "text/plain": [
       "<Figure size 432x288 with 2 Axes>"
      ]
     },
     "metadata": {
      "needs_background": "light"
     },
     "output_type": "display_data"
    },
    {
     "data": {
      "image/png": "[encoded data removed]",
      "text/plain": [
       "<Figure size 432x288 with 2 Axes>"
      ]
     },
     "metadata": {
      "needs_background": "light"
     },
     "output_type": "display_data"
    }
   ],
   "source": [
    "#Const T\n",
    "T_const=Temp*np.ones([L,L])\n",
    "\n",
    "plt.title(\"Const T\")\n",
    "plt.imshow(T_const,cmap=\"jet\")\n",
    "plt.colorbar()\n",
    "plt.show()\n",
    "\n",
    "\n",
    "#sqaure T\n",
    "x_=np.arange(0,L)\n",
    "y_=np.arange(0,L)\n",
    "mesh_x, mesh_y = np.meshgrid(x_,y_)\n",
    "A_x=mesh_x>= L/2\n",
    "A_y=mesh_y>= L/2\n",
    "T_square=A_x*A_y+A_x+2*A_y\n",
    "T_square=Temp*T_square\n",
    "\n",
    "plt.title(\"Square T\")\n",
    "plt.imshow(T_square,cmap=\"jet\")\n",
    "plt.colorbar()\n",
    "plt.show()\n",
    "\n",
    "#stripe T\n",
    "line_number=5\n",
    "T_stripe=np.ones((L,L))\n",
    "for idx in range(L):\n",
    "    T_stripe[idx,:]= idx//(L/line_number) + Temp\n",
    "\n",
    "plt.title(\"Stripe T\")\n",
    "plt.imshow(T_stripe,cmap=\"jet\")\n",
    "plt.colorbar()\n",
    "plt.show()"
   ]
  },
  {
   "cell_type": "code",
   "execution_count": 59,
   "id": "de7d1d3f",
   "metadata": {},
   "outputs": [
    {
     "data": {
      "text/plain": [
       "array([0, 1, 2])"
      ]
     },
     "execution_count": 59,
     "metadata": {},
     "output_type": "execute_result"
    }
   ],
   "source": [
    "state=initialize(L,level)\n",
    "np.unique(state)"
   ]
  },
  {
   "cell_type": "code",
   "execution_count": 119,
   "id": "d7a4bc31",
   "metadata": {},
   "outputs": [
    {
     "data": {
      "image/png": "[encoded data removed]",
      "text/plain": [
       "<Figure size 432x288 with 1 Axes>"
      ]
     },
     "metadata": {
      "needs_background": "light"
     },
     "output_type": "display_data"
    }
   ],
   "source": [
    "#Spin Pattern Simulation setting.\n",
    "%matplotlib inline\n",
    "\n",
    "fig = plt.figure()\n",
    "plt.title(\"2D lattice Potts model \\n $N_{sp}=$\"+ str(level)+ \" T=\"+str(Temp))\n",
    "\n",
    "im =plt.imshow(state,animated=True,cmap=\"Spectral\",interpolation=\"none\")\n",
    "plt.plot([None],[None],'s',color=\"darkred\",label='A')\n",
    "plt.plot([None],[None],'s',color=\"peachpuff\",label='B')\n",
    "plt.plot([None],[None],'s',color=\"rebeccapurple\",label='C')\n",
    "plt.legend(loc='upper center', bbox_to_anchor=(0.5,-0.03), shadow=True, ncol=4)\n",
    "plt.axis(\"off\")\n",
    "\n",
    "\n",
    "RI_=[RI(state)]\n",
    "H_=[H(state)]\n",
    "EI_=[EI(state)]\n",
    "SI_=[SI(state)]\n",
    "\n",
    "p1_=[np.sum(state==0)/np.size(state)]\n",
    "p2_=[np.sum(state==1)/np.size(state)]\n",
    "p3_=[np.sum(state==2)/np.size(state)]\n",
    "p4_=[np.sum(state==3)/np.size(state)]\n",
    "\n",
    "t=0\n",
    "t_=[t]\n",
    "\n",
    "def update_fig(*args):\n",
    "    global state,RI_,H_,EI_,SI_,t,t_,p1_,p2_,p3_\n",
    "    \n",
    "    #state=sweep_J(state,level,J_square,T_square)\n",
    "    state=sweep(state,level,J_ising,T_const)\n",
    "    im.set_array(state)\n",
    "    \n",
    "    RI_.append(RI(state))\n",
    "    H_.append(H(state))\n",
    "    EI_.append(EI(state))\n",
    "    SI_.append(SI(state))\n",
    "    \n",
    "    p1_.append(np.sum(state==0)/np.size(state))\n",
    "    p2_.append(np.sum(state==1)/np.size(state))\n",
    "    p3_.append(np.sum(state==2)/np.size(state))\n",
    "    p4_.append(np.sum(state==3)/np.size(state))\n",
    "    \n",
    "    t +=1\n",
    "    t_.append(t)\n",
    "    \n",
    "    return im,"
   ]
  },
  {
   "cell_type": "code",
   "execution_count": null,
   "id": "fd83ea24",
   "metadata": {},
   "outputs": [],
   "source": [
    "#Spin Pattern Simulation process and Edit as a vedio.\n",
    "ani = animation.FuncAnimation(fig, update_fig, #update_fig: 다음 step에 적용할 함수.\n",
    "                              frames=50, #전체 이미지 수. 즉, 몇 step을 할 것인가?\n",
    "                              interval=20, #이미지 간 간격. 즉, 한 step간의 시간 간격은? [msec]\n",
    "                              blit=True) #optimizer 사용유무.\n",
    "HTML(ani.to_html5_video())"
   ]
  },
  {
   "cell_type": "code",
   "execution_count": null,
   "id": "de6ef90f",
   "metadata": {},
   "outputs": [],
   "source": [
    "plt.plot(t_,H_,label=\"H\")\n",
    "plt.plot(t_,EI_,label=\"EI\")\n",
    "plt.plot(t_,RI_,label=\"RI\")\n",
    "plt.plot(t_,SI_,label=\"SI\")\n",
    "plt.legend()\n",
    "plt.show()"
   ]
  },
  {
   "cell_type": "code",
   "execution_count": null,
   "id": "0c87a9c6",
   "metadata": {},
   "outputs": [],
   "source": [
    "plt.plot(t_,np.array(p1_),label='p1')\n",
    "plt.plot(t_,np.array(p2_),label='p2')\n",
    "plt.plot(t_,np.array(p3_),label='p3')\n",
    "plt.plot(t_,np.array(p4_),label='p4')\n",
    "plt.legend()\n",
    "plt.show()"
   ]
  },
  {
   "cell_type": "code",
   "execution_count": 975,
   "id": "12ac122a",
   "metadata": {},
   "outputs": [],
   "source": [
    "def J_N(level):\n",
    "    J=1*np.ones([level,level])\n",
    "    for idx in range(level):\n",
    "        J[idx,idx]=-1\n",
    "    return J"
   ]
  },
  {
   "cell_type": "code",
   "execution_count": 655,
   "id": "807d55ed",
   "metadata": {},
   "outputs": [
    {
     "name": "stdout",
     "output_type": "stream",
     "text": [
      "3\n",
      "4\n",
      "5\n",
      "6\n",
      "7\n",
      "8\n",
      "9\n",
      "10\n",
      "11\n",
      "12\n",
      "13\n",
      "14\n",
      "15\n",
      "16\n",
      "17\n",
      "18\n",
      "19\n",
      "20\n"
     ]
    },
    {
     "name": "stderr",
     "output_type": "stream",
     "text": [
      "C:\\Users\\Astrocyte\\anaconda3\\lib\\site-packages\\ipykernel_launcher.py:34: RuntimeWarning: overflow encountered in long_scalars\n"
     ]
    },
    {
     "name": "stdout",
     "output_type": "stream",
     "text": [
      "21\n",
      "22\n",
      "23\n",
      "24\n",
      "25\n",
      "26\n",
      "27\n",
      "28\n",
      "29\n"
     ]
    }
   ],
   "source": [
    "L=100\n",
    "\n",
    "min_lev=3\n",
    "max_lev=30\n",
    "\n",
    "eq_t=100\n",
    "iteration=10\n",
    "\n",
    "lev_RI=[]\n",
    "lev_H=[]\n",
    "lev_EI=[]\n",
    "lev_SI=[]\n",
    "\n",
    "\n",
    "for lev in range(min_lev,max_lev):\n",
    "    print(lev)\n",
    "    \n",
    "    state=initialize(L,lev)\n",
    "\n",
    "    \n",
    "    for tdx in range(eq_t):\n",
    "        state=sweep(state,level,J_N(lev),Temp*np.ones([L,L]))\n",
    "        \n",
    "    ins_RI=[RI(state)]\n",
    "    ins_H=[H(state)]\n",
    "    ins_EI=[EI(state)]\n",
    "    ins_SI=[SI(state)]\n",
    "        \n",
    "    for idx in range(iteration):\n",
    "        state=sweep(state,level,J_N(lev),Temp*np.ones([L,L]))\n",
    "        \n",
    "        ins_RI.append(RI(state))\n",
    "        ins_H.append(H(state))\n",
    "        ins_EI.append(EI(state))\n",
    "        ins_SI.append(SI(state))\n",
    "        \n",
    "    lev_RI.append(np.average(ins_RI))\n",
    "    lev_H.append(np.average(ins_H))\n",
    "    lev_EI.append(np.average(ins_EI))\n",
    "    lev_SI.append(np.average(ins_SI))"
   ]
  },
  {
   "cell_type": "code",
   "execution_count": 656,
   "id": "4495cca3",
   "metadata": {},
   "outputs": [
    {
     "data": {
      "image/png": "[encoded data removed]",
      "text/plain": [
       "<Figure size 432x288 with 1 Axes>"
      ]
     },
     "metadata": {
      "needs_background": "light"
     },
     "output_type": "display_data"
    }
   ],
   "source": [
    "lev_=range(min_lev,max_lev)\n",
    "plt.title(\"Biodiversity Index by Species number\")\n",
    "plt.plot(lev_,lev_RI,label=\"RI\")\n",
    "plt.plot(lev_,lev_H,label=\"H\")\n",
    "plt.plot(lev_,lev_EI,label=\"EI\")\n",
    "plt.plot(lev_,lev_SI,label=\"SI\")\n",
    "plt.xlabel(\"species\")\n",
    "plt.ylabel(\"Index\")\n",
    "plt.legend()\n",
    "plt.show()"
   ]
  },
  {
   "cell_type": "code",
   "execution_count": 631,
   "id": "7a43db21",
   "metadata": {},
   "outputs": [
    {
     "name": "stdout",
     "output_type": "stream",
     "text": [
      "2\n",
      "3\n",
      "4\n",
      "5\n",
      "6\n",
      "7\n",
      "8\n",
      "9\n",
      "10\n",
      "11\n",
      "12\n",
      "13\n",
      "14\n",
      "15\n",
      "16\n",
      "17\n",
      "18\n",
      "19\n",
      "20\n",
      "21\n",
      "22\n",
      "23\n",
      "24\n",
      "25\n",
      "26\n",
      "27\n",
      "28\n",
      "29\n",
      "30\n",
      "31\n",
      "32\n",
      "33\n",
      "34\n",
      "35\n",
      "36\n",
      "37\n",
      "38\n",
      "39\n",
      "40\n",
      "41\n",
      "42\n",
      "43\n",
      "44\n",
      "45\n",
      "46\n",
      "47\n",
      "48\n",
      "49\n",
      "50\n",
      "51\n",
      "52\n",
      "53\n",
      "54\n",
      "55\n",
      "56\n",
      "57\n",
      "58\n",
      "59\n",
      "60\n",
      "61\n",
      "62\n",
      "63\n",
      "64\n",
      "65\n",
      "66\n",
      "67\n",
      "68\n",
      "69\n",
      "70\n",
      "71\n",
      "72\n",
      "73\n",
      "74\n",
      "75\n",
      "76\n",
      "77\n",
      "78\n",
      "79\n",
      "80\n",
      "81\n",
      "82\n",
      "83\n",
      "84\n",
      "85\n",
      "86\n",
      "87\n",
      "88\n",
      "89\n",
      "90\n",
      "91\n",
      "92\n",
      "93\n",
      "94\n",
      "95\n",
      "96\n",
      "97\n",
      "98\n",
      "99\n"
     ]
    }
   ],
   "source": [
    "lev=10\n",
    "\n",
    "min_L=2\n",
    "max_L=100\n",
    "\n",
    "eq_t=100\n",
    "iteration=10\n",
    "\n",
    "L_RI=[]\n",
    "L_H=[]\n",
    "L_EI=[]\n",
    "L_SI=[]\n",
    "\n",
    "\n",
    "for L in range(min_L,max_L):\n",
    "    print(L)\n",
    "    \n",
    "    state=initialize(L,lev)\n",
    "\n",
    "    \n",
    "    for tdx in range(eq_t):\n",
    "        state=sweep(state,level,J_N(lev),Temp*np.ones([L,L]))\n",
    "        \n",
    "    ins_RI=[RI(state)]\n",
    "    ins_H=[H(state)]\n",
    "    ins_EI=[EI(state)]\n",
    "    ins_SI=[SI(state)]\n",
    "        \n",
    "    for idx in range(iteration):\n",
    "        state=sweep(state,level,J_N(lev),Temp*np.ones([L,L]))\n",
    "        \n",
    "        ins_RI.append(RI(state))\n",
    "        ins_H.append(H(state))\n",
    "        ins_EI.append(EI(state))\n",
    "        ins_SI.append(SI(state))\n",
    "        \n",
    "    L_RI.append(np.average(ins_RI))\n",
    "    L_H.append(np.average(ins_H))\n",
    "    L_EI.append(np.average(ins_EI))\n",
    "    L_SI.append(np.average(ins_SI))"
   ]
  },
  {
   "cell_type": "code",
   "execution_count": 654,
   "id": "0129159a",
   "metadata": {},
   "outputs": [
    {
     "data": {
      "image/png": "[encoded data removed]",
      "text/plain": [
       "<Figure size 432x288 with 1 Axes>"
      ]
     },
     "metadata": {
      "needs_background": "light"
     },
     "output_type": "display_data"
    }
   ],
   "source": [
    "L_=np.log10(np.arange(min_L,max_L)**2)\n",
    "plt.title(\"Biodiversity Index by Lattice size N\")\n",
    "plt.plot(L_,L_RI,label=\"RI\")\n",
    "plt.plot(L_,L_H,label=\"H\")\n",
    "plt.plot(L_,L_EI,label=\"EI\")\n",
    "plt.plot(L_,L_SI,label=\"SI\")\n",
    "plt.xlabel(\"Lattice size $log\\;N$\")\n",
    "plt.ylabel(\"Index\")\n",
    "plt.legend()\n",
    "plt.show()"
   ]
  },
  {
   "cell_type": "code",
   "execution_count": null,
   "id": "aceefd90",
   "metadata": {},
   "outputs": [],
   "source": []
  },
  {
   "cell_type": "code",
   "execution_count": null,
   "id": "5d80c6e6",
   "metadata": {},
   "outputs": [],
   "source": []
  }
 ],
 "metadata": {
  "kernelspec": {
   "display_name": "Python 3",
   "language": "python",
   "name": "python3"
  },
  "language_info": {
   "codemirror_mode": {
    "name": "ipython",
    "version": 3
   },
   "file_extension": ".py",
   "mimetype": "text/x-python",
   "name": "python",
   "nbconvert_exporter": "python",
   "pygments_lexer": "ipython3",
   "version": "3.7.6"
  }
 },
 "nbformat": 4,
 "nbformat_minor": 5
}
